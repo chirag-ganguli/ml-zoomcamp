{
 "cells": [
  {
   "cell_type": "code",
   "execution_count": 1,
   "id": "588089dd",
   "metadata": {},
   "outputs": [
    {
     "name": "stdout",
     "output_type": "stream",
     "text": [
      "--2022-09-18 14:05:18--  https://raw.githubusercontent.com/alexeygrigorev/datasets/master/housing.csv\n",
      "Resolving raw.githubusercontent.com (raw.githubusercontent.com)... 185.199.109.133, 185.199.110.133, 185.199.111.133, ...\n",
      "Connecting to raw.githubusercontent.com (raw.githubusercontent.com)|185.199.109.133|:443... connected.\n",
      "HTTP request sent, awaiting response... 200 OK\n",
      "Length: 1423529 (1.4M) [text/plain]\n",
      "Saving to: ‘housing.csv’\n",
      "\n",
      "housing.csv         100%[===================>]   1.36M  1.18MB/s    in 1.1s    \n",
      "\n",
      "2022-09-18 14:05:20 (1.18 MB/s) - ‘housing.csv’ saved [1423529/1423529]\n",
      "\n"
     ]
    }
   ],
   "source": [
    "!wget https://raw.githubusercontent.com/alexeygrigorev/datasets/master/housing.csv"
   ]
  },
  {
   "cell_type": "code",
   "execution_count": 2,
   "id": "d982900f",
   "metadata": {},
   "outputs": [],
   "source": [
    "import pandas as pd\n",
    "data = pd.read_csv(\"housing.csv\")"
   ]
  },
  {
   "cell_type": "code",
   "execution_count": 3,
   "id": "70b90979",
   "metadata": {},
   "outputs": [
    {
     "data": {
      "text/html": [
       "<div>\n",
       "<style scoped>\n",
       "    .dataframe tbody tr th:only-of-type {\n",
       "        vertical-align: middle;\n",
       "    }\n",
       "\n",
       "    .dataframe tbody tr th {\n",
       "        vertical-align: top;\n",
       "    }\n",
       "\n",
       "    .dataframe thead th {\n",
       "        text-align: right;\n",
       "    }\n",
       "</style>\n",
       "<table border=\"1\" class=\"dataframe\">\n",
       "  <thead>\n",
       "    <tr style=\"text-align: right;\">\n",
       "      <th></th>\n",
       "      <th>longitude</th>\n",
       "      <th>latitude</th>\n",
       "      <th>housing_median_age</th>\n",
       "      <th>total_rooms</th>\n",
       "      <th>total_bedrooms</th>\n",
       "      <th>population</th>\n",
       "      <th>households</th>\n",
       "      <th>median_income</th>\n",
       "      <th>median_house_value</th>\n",
       "      <th>ocean_proximity</th>\n",
       "    </tr>\n",
       "  </thead>\n",
       "  <tbody>\n",
       "    <tr>\n",
       "      <th>0</th>\n",
       "      <td>-122.23</td>\n",
       "      <td>37.88</td>\n",
       "      <td>41.0</td>\n",
       "      <td>880.0</td>\n",
       "      <td>129.0</td>\n",
       "      <td>322.0</td>\n",
       "      <td>126.0</td>\n",
       "      <td>8.3252</td>\n",
       "      <td>452600.0</td>\n",
       "      <td>NEAR BAY</td>\n",
       "    </tr>\n",
       "    <tr>\n",
       "      <th>1</th>\n",
       "      <td>-122.22</td>\n",
       "      <td>37.86</td>\n",
       "      <td>21.0</td>\n",
       "      <td>7099.0</td>\n",
       "      <td>1106.0</td>\n",
       "      <td>2401.0</td>\n",
       "      <td>1138.0</td>\n",
       "      <td>8.3014</td>\n",
       "      <td>358500.0</td>\n",
       "      <td>NEAR BAY</td>\n",
       "    </tr>\n",
       "    <tr>\n",
       "      <th>2</th>\n",
       "      <td>-122.24</td>\n",
       "      <td>37.85</td>\n",
       "      <td>52.0</td>\n",
       "      <td>1467.0</td>\n",
       "      <td>190.0</td>\n",
       "      <td>496.0</td>\n",
       "      <td>177.0</td>\n",
       "      <td>7.2574</td>\n",
       "      <td>352100.0</td>\n",
       "      <td>NEAR BAY</td>\n",
       "    </tr>\n",
       "    <tr>\n",
       "      <th>3</th>\n",
       "      <td>-122.25</td>\n",
       "      <td>37.85</td>\n",
       "      <td>52.0</td>\n",
       "      <td>1274.0</td>\n",
       "      <td>235.0</td>\n",
       "      <td>558.0</td>\n",
       "      <td>219.0</td>\n",
       "      <td>5.6431</td>\n",
       "      <td>341300.0</td>\n",
       "      <td>NEAR BAY</td>\n",
       "    </tr>\n",
       "    <tr>\n",
       "      <th>4</th>\n",
       "      <td>-122.25</td>\n",
       "      <td>37.85</td>\n",
       "      <td>52.0</td>\n",
       "      <td>1627.0</td>\n",
       "      <td>280.0</td>\n",
       "      <td>565.0</td>\n",
       "      <td>259.0</td>\n",
       "      <td>3.8462</td>\n",
       "      <td>342200.0</td>\n",
       "      <td>NEAR BAY</td>\n",
       "    </tr>\n",
       "  </tbody>\n",
       "</table>\n",
       "</div>"
      ],
      "text/plain": [
       "   longitude  latitude  housing_median_age  total_rooms  total_bedrooms  \\\n",
       "0    -122.23     37.88                41.0        880.0           129.0   \n",
       "1    -122.22     37.86                21.0       7099.0          1106.0   \n",
       "2    -122.24     37.85                52.0       1467.0           190.0   \n",
       "3    -122.25     37.85                52.0       1274.0           235.0   \n",
       "4    -122.25     37.85                52.0       1627.0           280.0   \n",
       "\n",
       "   population  households  median_income  median_house_value ocean_proximity  \n",
       "0       322.0       126.0         8.3252            452600.0        NEAR BAY  \n",
       "1      2401.0      1138.0         8.3014            358500.0        NEAR BAY  \n",
       "2       496.0       177.0         7.2574            352100.0        NEAR BAY  \n",
       "3       558.0       219.0         5.6431            341300.0        NEAR BAY  \n",
       "4       565.0       259.0         3.8462            342200.0        NEAR BAY  "
      ]
     },
     "execution_count": 3,
     "metadata": {},
     "output_type": "execute_result"
    }
   ],
   "source": [
    "data.head()"
   ]
  },
  {
   "cell_type": "code",
   "execution_count": 4,
   "id": "b082a59d",
   "metadata": {},
   "outputs": [
    {
     "data": {
      "text/plain": [
       "Index(['longitude', 'latitude', 'housing_median_age', 'total_rooms',\n",
       "       'total_bedrooms', 'population', 'households', 'median_income',\n",
       "       'median_house_value', 'ocean_proximity'],\n",
       "      dtype='object')"
      ]
     },
     "execution_count": 4,
     "metadata": {},
     "output_type": "execute_result"
    }
   ],
   "source": [
    "data.columns"
   ]
  },
  {
   "cell_type": "code",
   "execution_count": 6,
   "id": "d0b5e1ad",
   "metadata": {},
   "outputs": [],
   "source": [
    "data = data[[\n",
    "    'latitude',\n",
    "    'longitude',\n",
    "    'housing_median_age',\n",
    "    'total_rooms',\n",
    "    'total_bedrooms',\n",
    "    'population',\n",
    "    'households',\n",
    "    'median_income',\n",
    "    'median_house_value'\n",
    "]]"
   ]
  },
  {
   "cell_type": "code",
   "execution_count": 7,
   "id": "d27e9f9c",
   "metadata": {},
   "outputs": [
    {
     "data": {
      "text/plain": [
       "latitude                0\n",
       "longitude               0\n",
       "housing_median_age      0\n",
       "total_rooms             0\n",
       "total_bedrooms        207\n",
       "population              0\n",
       "households              0\n",
       "median_income           0\n",
       "median_house_value      0\n",
       "dtype: int64"
      ]
     },
     "execution_count": 7,
     "metadata": {},
     "output_type": "execute_result"
    }
   ],
   "source": [
    "data.isnull().sum()"
   ]
  },
  {
   "cell_type": "code",
   "execution_count": 8,
   "id": "c00e4571",
   "metadata": {},
   "outputs": [
    {
     "data": {
      "text/plain": [
       "1166.0"
      ]
     },
     "execution_count": 8,
     "metadata": {},
     "output_type": "execute_result"
    }
   ],
   "source": [
    "data['population'].median()"
   ]
  },
  {
   "cell_type": "code",
   "execution_count": 9,
   "id": "738a503b",
   "metadata": {},
   "outputs": [],
   "source": [
    "import numpy as np\n",
    "idx = np.arange(len(data))\n",
    "np.random.seed(42)\n",
    "np.random.shuffle(idx)\n",
    "\n",
    "val = int(len(data)*0.2)\n",
    "test = int(len(data)*0.2)\n",
    "train = len(data) - val - test\n",
    "\n",
    "data_train = data.iloc[idx[:train]]\n",
    "data_val = data.iloc[idx[train:train+val]]\n",
    "data_test = data.iloc[idx[train+val:]]\n",
    "\n",
    "y_train = np.log1p(data_train['median_house_value'].values)\n",
    "y_val = np.log1p(data_val['median_house_value'].values)\n",
    "y_test = np.log1p(data_test['median_house_value'].values)\n",
    "\n",
    "del data_train['median_house_value']\n",
    "del data_val['median_house_value']\n",
    "del data_test['median_house_value']"
   ]
  },
  {
   "cell_type": "code",
   "execution_count": 10,
   "id": "8bedb9b8",
   "metadata": {},
   "outputs": [],
   "source": [
    "def lin_reg(X, y, r = 0.001):\n",
    "    ones = np.ones(X.shape[0])\n",
    "    X = np.column_stack([ones, X])\n",
    "    XTX = X.T.dot(X)\n",
    "    XTX += r * np.eye(XTX.shape[0])\n",
    "    XTX_inv = np.linalg.inv(XTX)\n",
    "    w = XTX_inv.dot(X.T).dot(y)\n",
    "    \n",
    "    return w[0], w[1:]"
   ]
  },
  {
   "cell_type": "code",
   "execution_count": 11,
   "id": "abc093f8",
   "metadata": {},
   "outputs": [],
   "source": [
    "def rmse(y_pred, y):\n",
    "    sq_err = (y - y_pred)**2\n",
    "    mse = sq_err.mean()\n",
    "    \n",
    "    return np.sqrt(mse)"
   ]
  },
  {
   "cell_type": "code",
   "execution_count": 13,
   "id": "6317c9e1",
   "metadata": {},
   "outputs": [],
   "source": [
    "def find_X(data, missing_value=0):\n",
    "    data = data.copy()\n",
    "    data = data.fillna(missing_value)\n",
    "    X = data.values\n",
    "    \n",
    "    return X"
   ]
  },
  {
   "cell_type": "code",
   "execution_count": 14,
   "id": "d7386ff6",
   "metadata": {},
   "outputs": [
    {
     "data": {
      "text/plain": [
       "0.33"
      ]
     },
     "execution_count": 14,
     "metadata": {},
     "output_type": "execute_result"
    }
   ],
   "source": [
    "# With 0\n",
    "X_train = find_X(data_train)\n",
    "w0, w = lin_reg(X_train, y_train, r=0)\n",
    "\n",
    "X_val = find_X(data_val)\n",
    "y_val_pred = w0 + X_val.dot(w)\n",
    "rmse_score = round(rmse(y_val_pred, y_val), 2)\n",
    "rmse_score"
   ]
  },
  {
   "cell_type": "code",
   "execution_count": 15,
   "id": "aed9a8ef",
   "metadata": {},
   "outputs": [
    {
     "data": {
      "text/plain": [
       "0.33"
      ]
     },
     "execution_count": 15,
     "metadata": {},
     "output_type": "execute_result"
    }
   ],
   "source": [
    "# With Mean\n",
    "X_train = find_X(data_train, missing_value=data_train['total_bedrooms'].mean())\n",
    "w0, w = lin_reg(X_train, y_train, r=0)\n",
    "\n",
    "X_val = find_X(data_val, missing_value=data_train['total_bedrooms'].mean())\n",
    "y_val_pred = w0 + X_val.dot(w)\n",
    "rmse_score = round(rmse(y_val_pred, y_val), 2)\n",
    "rmse_score"
   ]
  },
  {
   "cell_type": "code",
   "execution_count": 16,
   "id": "82c16f78",
   "metadata": {},
   "outputs": [
    {
     "name": "stdout",
     "output_type": "stream",
     "text": [
      "for r = 0 the rmse = 0.33\n",
      "for r = 1e-06 the rmse = 0.33\n",
      "for r = 0.0001 the rmse = 0.33\n",
      "for r = 0.001 the rmse = 0.33\n",
      "for r = 0.01 the rmse = 0.33\n",
      "for r = 0.1 the rmse = 0.33\n",
      "for r = 1 the rmse = 0.33\n",
      "for r = 5 the rmse = 0.34\n",
      "for r = 10 the rmse = 0.34\n"
     ]
    }
   ],
   "source": [
    "r_val = [0, 0.000001, 0.0001, 0.001, 0.01, 0.1, 1, 5, 10]\n",
    "\n",
    "\n",
    "for r in r_val:\n",
    "    X_train = find_X(data_train, missing_value=0)\n",
    "    w0, w = lin_reg(X_train, y_train, r=r)\n",
    "\n",
    "    X_val = find_X(data_val, missing_value=0)\n",
    "    y_val_pred = w0 + X_val.dot(w)\n",
    "    rmse_score = round(rmse(y_val_pred, y_val), 2)\n",
    "    print(f\"for r = {r} the rmse = {rmse_score}\")"
   ]
  },
  {
   "cell_type": "code",
   "execution_count": 21,
   "id": "88214ebb",
   "metadata": {},
   "outputs": [
    {
     "name": "stdout",
     "output_type": "stream",
     "text": [
      "for seed = 0 the rmse = 0.33884304805321186\n",
      "for seed = 1 the rmse = 0.3362387255956888\n",
      "for seed = 2 the rmse = 0.33209123188276174\n",
      "for seed = 3 the rmse = 0.3405153609034065\n",
      "for seed = 4 the rmse = 0.33890240665744614\n",
      "for seed = 5 the rmse = 0.34348667257183724\n",
      "for seed = 6 the rmse = 0.34519809530994167\n",
      "for seed = 7 the rmse = 0.33959899274091027\n",
      "for seed = 8 the rmse = 0.34662308731747465\n",
      "for seed = 9 the rmse = 0.336592612418177\n"
     ]
    },
    {
     "data": {
      "text/plain": [
       "0.004"
      ]
     },
     "execution_count": 21,
     "metadata": {},
     "output_type": "execute_result"
    }
   ],
   "source": [
    "rmse_fres = []\n",
    "\n",
    "for seed in range(10):\n",
    "\n",
    "    idx = np.arange(len(data))\n",
    "    np.random.seed(seed)\n",
    "    np.random.shuffle(idx)\n",
    "\n",
    "    val = int(len(data)*0.2)\n",
    "    test = int(len(data)*0.2)\n",
    "    train = len(data) - val - test\n",
    "\n",
    "    data_train = data.iloc[idx[:train]]\n",
    "    data_val = data.iloc[idx[train:train+test]]\n",
    "    data_test = data.iloc[idx[train+test:]]\n",
    "\n",
    "    y_train = np.log1p(data_train['median_house_value'].values)\n",
    "    y_val = np.log1p(data_val['median_house_value'].values)\n",
    "    y_test = np.log1p(data_test['median_house_value'].values)\n",
    "\n",
    "    del data_train['median_house_value']\n",
    "    del data_val['median_house_value']\n",
    "    del data_test['median_house_value']\n",
    "    \n",
    "    \n",
    "    X_train = find_X(data_train, missing_value=0)\n",
    "    w0, w = lin_reg(X_train, y_train, r=0)\n",
    "\n",
    "    X_val = find_X(data_val, missing_value=0)\n",
    "    y_val_pred = w0 + X_val.dot(w)\n",
    "    rmse_res = rmse(y_val_pred, y_val)\n",
    "    print(f\"for seed = {seed} the rmse = {rmse_res}\")\n",
    "    \n",
    "    rmse_fres.append(rmse_res)\n",
    "\n",
    "out = round(np.std(np.array(rmse_fres)), 3)\n",
    "out"
   ]
  },
  {
   "cell_type": "code",
   "execution_count": 22,
   "id": "32b55128",
   "metadata": {},
   "outputs": [
    {
     "data": {
      "text/plain": [
       "0.34531689143805994"
      ]
     },
     "execution_count": 22,
     "metadata": {},
     "output_type": "execute_result"
    }
   ],
   "source": [
    "idx = np.arange(len(data))\n",
    "np.random.seed(9)\n",
    "np.random.shuffle(idx)\n",
    "\n",
    "val = int(len(data)*0.2)\n",
    "test = int(len(data)*0.2)\n",
    "train = len(data) - val - test\n",
    "\n",
    "data_train = data.iloc[idx[:train]]\n",
    "data_val = data.iloc[idx[train:train+test]]\n",
    "data_test = data.iloc[idx[train+test:]]\n",
    "\n",
    "y_train = np.log1p(data_train['median_house_value'].values)\n",
    "y_val = np.log1p(data_val['median_house_value'].values)\n",
    "y_test = np.log1p(data_test['median_house_value'].values)\n",
    "\n",
    "del data_train['median_house_value']\n",
    "del data_val['median_house_value']\n",
    "del data_test['median_house_value']\n",
    "\n",
    "ftrain = data_train.append(data_val)\n",
    "Y_train = np.append(y_train, y_val)\n",
    "\n",
    "X_train = find_X(ftrain, missing_value=0)\n",
    "w0, w = lin_reg(X_train, Y_train, r=0.001)\n",
    "\n",
    "X_test = find_X(data_test, missing_value=0)\n",
    "y_test_pred = w0 + X_test.dot(w)\n",
    "rmse_res = rmse(y_test_pred, y_test)\n",
    "\n",
    "rmse_res"
   ]
  }
 ],
 "metadata": {
  "kernelspec": {
   "display_name": "Python 3 (ipykernel)",
   "language": "python",
   "name": "python3"
  },
  "language_info": {
   "codemirror_mode": {
    "name": "ipython",
    "version": 3
   },
   "file_extension": ".py",
   "mimetype": "text/x-python",
   "name": "python",
   "nbconvert_exporter": "python",
   "pygments_lexer": "ipython3",
   "version": "3.9.14"
  }
 },
 "nbformat": 4,
 "nbformat_minor": 5
}
